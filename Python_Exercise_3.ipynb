{
  "nbformat": 4,
  "nbformat_minor": 0,
  "metadata": {
    "colab": {
      "provenance": [],
      "authorship_tag": "ABX9TyP8403iLXl40i/hRrdIarpN",
      "include_colab_link": true
    },
    "kernelspec": {
      "name": "python3",
      "display_name": "Python 3"
    },
    "language_info": {
      "name": "python"
    }
  },
  "cells": [
    {
      "cell_type": "markdown",
      "metadata": {
        "id": "view-in-github",
        "colab_type": "text"
      },
      "source": [
        "<a href=\"https://colab.research.google.com/github/Gilmore-Floyd-R-Lozano/58013-Linear-Algebra/blob/main/Python_Exercise_3.ipynb\" target=\"_parent\"><img src=\"https://colab.research.google.com/assets/colab-badge.svg\" alt=\"Open In Colab\"/></a>"
      ]
    },
    {
      "cell_type": "code",
      "execution_count": 15,
      "metadata": {
        "colab": {
          "base_uri": "https://localhost:8080/"
        },
        "id": "FlezuUzIUiuE",
        "outputId": "b1adb8b1-d15a-4ac5-defc-801315cd81a8"
      },
      "outputs": [
        {
          "output_type": "stream",
          "name": "stdout",
          "text": [
            "[ 4  3 -1]\n",
            "[ 4  3 -1]\n",
            "2\n"
          ]
        }
      ],
      "source": [
        "# Vector Addition\n",
        "import numpy as np\n",
        "\n",
        "A = np.array([1,2,0])\n",
        "B = np.array([3,1,-2])\n",
        "C = np.array([0,0,1])\n",
        "\n",
        "print(A+B+C)\n",
        "\n",
        "print(np.add(A,np.add(B,C)))\n",
        "\n",
        "print(np.sum(B))\n"
      ]
    },
    {
      "cell_type": "code",
      "source": [
        "# Vector Subtraction\n",
        "print(np.subtract(A,B))\n",
        "\n",
        "print(A-B)\n"
      ],
      "metadata": {
        "colab": {
          "base_uri": "https://localhost:8080/"
        },
        "id": "n9OeNf-cXZBe",
        "outputId": "6ebe41c3-df6c-48a9-8c79-75eef363f826"
      },
      "execution_count": 4,
      "outputs": [
        {
          "output_type": "stream",
          "name": "stdout",
          "text": [
            "[-2  1  2]\n",
            "[-2  1  2]\n"
          ]
        }
      ]
    },
    {
      "cell_type": "code",
      "source": [
        "# Vector Multiplication\n",
        "print(np.multiply(A,B))\n",
        "\n",
        "print(A*B)\n"
      ],
      "metadata": {
        "colab": {
          "base_uri": "https://localhost:8080/"
        },
        "id": "pu1GVD7hXrq3",
        "outputId": "533297db-9323-4bd3-c9d7-53beb2fd6e50"
      },
      "execution_count": 7,
      "outputs": [
        {
          "output_type": "stream",
          "name": "stdout",
          "text": [
            "[3 2 0]\n",
            "[3 2 0]\n"
          ]
        }
      ]
    },
    {
      "cell_type": "code",
      "source": [
        "# Vector Division\n",
        "print(np.divide(A,B))\n",
        "\n",
        "print(A/B)\n",
        "\n",
        "C = np.array([3.9,1.8,7.7])\n",
        "D = np.array([1,1,1])\n",
        "C//D\n",
        "\n",
        "print(np.array(A/B, dtype=int))\n"
      ],
      "metadata": {
        "colab": {
          "base_uri": "https://localhost:8080/"
        },
        "id": "dLTtgGLGYCGV",
        "outputId": "53bc3a90-5d0d-451f-e67a-fe51fc1cc1f0"
      },
      "execution_count": 13,
      "outputs": [
        {
          "output_type": "stream",
          "name": "stdout",
          "text": [
            "[ 0.33333333  2.         -0.        ]\n",
            "[ 0.33333333  2.         -0.        ]\n",
            "[0 2 0]\n"
          ]
        }
      ]
    }
  ]
}