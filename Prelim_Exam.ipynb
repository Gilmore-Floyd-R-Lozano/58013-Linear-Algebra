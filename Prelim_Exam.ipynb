{
  "nbformat": 4,
  "nbformat_minor": 0,
  "metadata": {
    "colab": {
      "provenance": [],
      "authorship_tag": "ABX9TyNjdgs/r7yVJXVJa7FYNZrD",
      "include_colab_link": true
    },
    "kernelspec": {
      "name": "python3",
      "display_name": "Python 3"
    },
    "language_info": {
      "name": "python"
    }
  },
  "cells": [
    {
      "cell_type": "markdown",
      "metadata": {
        "id": "view-in-github",
        "colab_type": "text"
      },
      "source": [
        "<a href=\"https://colab.research.google.com/github/Gilmore-Floyd-R-Lozano/58013-Linear-Algebra/blob/main/Prelim_Exam.ipynb\" target=\"_parent\"><img src=\"https://colab.research.google.com/assets/colab-badge.svg\" alt=\"Open In Colab\"/></a>"
      ]
    },
    {
      "cell_type": "code",
      "source": [
        "#Question 1\n",
        "import numpy as np\n",
        "a = np.array([1, 2, 3, 4,5,6,7,8,9,10])\n",
        "b = np.array([[1],[2],[3],[4],[5],[6],[7],[8],[9],[10]])\n",
        "\n",
        "mult_table = (a*b)\n",
        "\n",
        "print(mult_table)\n",
        "\n",
        "\n",
        "mult = np.array([[1,2,3,4,5,6,7,8,9,10],\n",
        "                [2,4,6,8,10,12,14,16,18,20],\n",
        "                [3,6,9,12,15,18,21,24,27,30],\n",
        "                [4,8,12,16,20,24,28,32,36,40],\n",
        "                [5,10,15,20,25,30,35,40,45,50],\n",
        "                [6,12,18,24,30,36,42,48,54,60],\n",
        "                [7,14,21,28,35,42,49,56,63,70],\n",
        "                [8,16,24,32,40,48,56,64,72,80],\n",
        "                [9,18,27,36,45,54,63,72,81,90],\n",
        "                [10,20,30,40,50,60,70,80,90,100]]\n",
        "                )\n",
        "print(\"\\nor\\n\", mult)\n",
        "\n"
      ],
      "metadata": {
        "colab": {
          "base_uri": "https://localhost:8080/"
        },
        "id": "ulhmyXDV1eb7",
        "outputId": "cbef21a4-1bfb-4b72-fd67-824485431ae8"
      },
      "execution_count": 18,
      "outputs": [
        {
          "output_type": "stream",
          "name": "stdout",
          "text": [
            "[[  1   2   3   4   5   6   7   8   9  10]\n",
            " [  2   4   6   8  10  12  14  16  18  20]\n",
            " [  3   6   9  12  15  18  21  24  27  30]\n",
            " [  4   8  12  16  20  24  28  32  36  40]\n",
            " [  5  10  15  20  25  30  35  40  45  50]\n",
            " [  6  12  18  24  30  36  42  48  54  60]\n",
            " [  7  14  21  28  35  42  49  56  63  70]\n",
            " [  8  16  24  32  40  48  56  64  72  80]\n",
            " [  9  18  27  36  45  54  63  72  81  90]\n",
            " [ 10  20  30  40  50  60  70  80  90 100]]\n",
            "\n",
            "or\n",
            " [[  1   2   3   4   5   6   7   8   9  10]\n",
            " [  2   4   6   8  10  12  14  16  18  20]\n",
            " [  3   6   9  12  15  18  21  24  27  30]\n",
            " [  4   8  12  16  20  24  28  32  36  40]\n",
            " [  5  10  15  20  25  30  35  40  45  50]\n",
            " [  6  12  18  24  30  36  42  48  54  60]\n",
            " [  7  14  21  28  35  42  49  56  63  70]\n",
            " [  8  16  24  32  40  48  56  64  72  80]\n",
            " [  9  18  27  36  45  54  63  72  81  90]\n",
            " [ 10  20  30  40  50  60  70  80  90 100]]\n"
          ]
        }
      ]
    },
    {
      "cell_type": "code",
      "source": [
        "#Question 2\n",
        "print(2*mult_table)"
      ],
      "metadata": {
        "colab": {
          "base_uri": "https://localhost:8080/"
        },
        "id": "MqZHIj683EHB",
        "outputId": "dbb3e726-071b-414b-baf6-d39c9d0b1c6c"
      },
      "execution_count": 16,
      "outputs": [
        {
          "output_type": "stream",
          "name": "stdout",
          "text": [
            "[[  2   4   6   8  10  12  14  16  18  20]\n",
            " [  4   8  12  16  20  24  28  32  36  40]\n",
            " [  6  12  18  24  30  36  42  48  54  60]\n",
            " [  8  16  24  32  40  48  56  64  72  80]\n",
            " [ 10  20  30  40  50  60  70  80  90 100]\n",
            " [ 12  24  36  48  60  72  84  96 108 120]\n",
            " [ 14  28  42  56  70  84  98 112 126 140]\n",
            " [ 16  32  48  64  80  96 112 128 144 160]\n",
            " [ 18  36  54  72  90 108 126 144 162 180]\n",
            " [ 20  40  60  80 100 120 140 160 180 200]]\n"
          ]
        }
      ]
    },
    {
      "cell_type": "code",
      "source": [
        "#Question 3\n",
        "import numpy as np\n",
        "square = np.eye(3,3)\n",
        "print(square)"
      ],
      "metadata": {
        "colab": {
          "base_uri": "https://localhost:8080/"
        },
        "id": "IqGx_77F30H4",
        "outputId": "9994e5c0-a0c3-4ebc-cdc8-b1ba2f9c9dd6"
      },
      "execution_count": 4,
      "outputs": [
        {
          "output_type": "stream",
          "name": "stdout",
          "text": [
            "[[1. 0. 0.]\n",
            " [0. 1. 0.]\n",
            " [0. 0. 1.]]\n"
          ]
        }
      ]
    },
    {
      "cell_type": "code",
      "source": [
        "#Question 4\n",
        "matrix = np.array([[1, 2, 3, 4],\n",
        "                   [5, 6, 7, 8],\n",
        "                   [9, 10, 11, 12]\n",
        "                   ])\n",
        "print(\"Size:\\n\",np.size(matrix))\n",
        "print(\"Shape:\\n\",np.shape(matrix))\n",
        "print(\"Dimension:\\n\", np.ndim(matrix))\n",
        "\n"
      ],
      "metadata": {
        "colab": {
          "base_uri": "https://localhost:8080/"
        },
        "id": "cakbFEUo7Lnd",
        "outputId": "edd84a3d-154a-46e1-ee47-ba4f3adae0db"
      },
      "execution_count": 12,
      "outputs": [
        {
          "output_type": "stream",
          "name": "stdout",
          "text": [
            "Size:\n",
            " 12\n",
            "Shape:\n",
            " (3, 4)\n",
            "Dimension:\n",
            " 2\n"
          ]
        }
      ]
    },
    {
      "cell_type": "code",
      "source": [
        "#Question 5\n",
        "import numpy as np\n",
        "arrayOne = np.array([[5,6,9], [21, 18, 27]])\n",
        "arrayTwo = np.array([[15, 33, 24], [4, 7, 1]])\n",
        "\n",
        "sum = np.add(arrayOne,arrayTwo)\n",
        "print(sum,\"\\n\")\n",
        "\n",
        "print(sum**2)"
      ],
      "metadata": {
        "colab": {
          "base_uri": "https://localhost:8080/"
        },
        "id": "OyPXRLku5z5O",
        "outputId": "f2f2dcba-f1e9-477e-987b-ccd14111bfa5"
      },
      "execution_count": 6,
      "outputs": [
        {
          "output_type": "stream",
          "name": "stdout",
          "text": [
            "[[20 39 33]\n",
            " [25 25 28]] \n",
            "\n",
            "[[ 400 1521 1089]\n",
            " [ 625  625  784]]\n"
          ]
        }
      ]
    }
  ]
}