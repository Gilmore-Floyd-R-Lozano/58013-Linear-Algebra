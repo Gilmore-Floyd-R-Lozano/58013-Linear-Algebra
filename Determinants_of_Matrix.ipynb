{
  "nbformat": 4,
  "nbformat_minor": 0,
  "metadata": {
    "colab": {
      "provenance": [],
      "authorship_tag": "ABX9TyMd0d+c0ly0Qp+nr12RdGm5",
      "include_colab_link": true
    },
    "kernelspec": {
      "name": "python3",
      "display_name": "Python 3"
    },
    "language_info": {
      "name": "python"
    }
  },
  "cells": [
    {
      "cell_type": "markdown",
      "metadata": {
        "id": "view-in-github",
        "colab_type": "text"
      },
      "source": [
        "<a href=\"https://colab.research.google.com/github/Gilmore-Floyd-R-Lozano/58013-Linear-Algebra/blob/main/Determinants_of_Matrix.ipynb\" target=\"_parent\"><img src=\"https://colab.research.google.com/assets/colab-badge.svg\" alt=\"Open In Colab\"/></a>"
      ]
    },
    {
      "cell_type": "code",
      "execution_count": 4,
      "metadata": {
        "colab": {
          "base_uri": "https://localhost:8080/"
        },
        "id": "8jbX4UGP-Ibg",
        "outputId": "bf299a3a-49dd-44b3-dca4-ca69a3706aa6"
      },
      "outputs": [
        {
          "output_type": "stream",
          "name": "stdout",
          "text": [
            "-13.999999999999996\n"
          ]
        }
      ],
      "source": [
        "import numpy\n",
        "\n",
        "A=numpy.array([[ 1,  2, -1],\n",
        "               [ 4,  6, -2],\n",
        "               [-1,  3,  3]])\n",
        "print(numpy.linalg.det(A))"
      ]
    }
  ]
}