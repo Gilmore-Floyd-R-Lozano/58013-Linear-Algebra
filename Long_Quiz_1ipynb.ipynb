{
  "nbformat": 4,
  "nbformat_minor": 0,
  "metadata": {
    "colab": {
      "provenance": [],
      "authorship_tag": "ABX9TyOSUBdDzu11vsmEMdjL/qxm",
      "include_colab_link": true
    },
    "kernelspec": {
      "name": "python3",
      "display_name": "Python 3"
    },
    "language_info": {
      "name": "python"
    }
  },
  "cells": [
    {
      "cell_type": "markdown",
      "metadata": {
        "id": "view-in-github",
        "colab_type": "text"
      },
      "source": [
        "<a href=\"https://colab.research.google.com/github/Gilmore-Floyd-R-Lozano/58013-Linear-Algebra/blob/main/Long_Quiz_1ipynb.ipynb\" target=\"_parent\"><img src=\"https://colab.research.google.com/assets/colab-badge.svg\" alt=\"Open In Colab\"/></a>"
      ]
    },
    {
      "cell_type": "code",
      "execution_count": 30,
      "metadata": {
        "colab": {
          "base_uri": "https://localhost:8080/"
        },
        "id": "clDtZG-8h7k6",
        "outputId": "e3f6af1b-58fe-49f0-e624-a3336f4e841a"
      },
      "outputs": [
        {
          "output_type": "stream",
          "name": "stdout",
          "text": [
            "A. AB\n",
            "[[22 28]\n",
            " [49 64]]\n",
            "\n",
            "B. D + D\n",
            "[[2 4]\n",
            " [6 8]]\n",
            "\n",
            "C. 2C\n",
            "[[ 2  4  6]\n",
            " [ 8 10 12]\n",
            " [14 16 18]]\n",
            "\n",
            " or \n",
            "\n",
            "[[ 2  4  6]\n",
            " [ 8 10 12]\n",
            " [14 16 18]]\n"
          ]
        }
      ],
      "source": [
        "#Problem 1\n",
        "import numpy as np\n",
        "A = np.array ([[1, 2, 3],\n",
        "               [4, 5, 6]])\n",
        "\n",
        "B = np.array ([[1, 2],\n",
        "               [3, 4],\n",
        "               [5, 6]])\n",
        "\n",
        "C = np.array([[1, 2, 3],\n",
        "              [4, 5, 6],\n",
        "              [7, 8, 9]])\n",
        "\n",
        "D = np.array([[1, 2],\n",
        "              [3, 4]])\n",
        "\n",
        "print(\"A. AB\")\n",
        "print(np.dot(A, B))\n",
        "\n",
        "print(\"\\nB. D + D\")\n",
        "print(np.add(D,D))\n",
        "\n",
        "print(\"\\nC. 2C\")\n",
        "print(2*C)\n",
        "\n",
        "print(\"\\n or \\n\")\n",
        "print(np.multiply(2, C))"
      ]
    },
    {
      "cell_type": "code",
      "source": [
        "#Problem 2\n",
        "import numpy as np\n",
        "\n",
        "A = np.array ([2, 7, 4])\n",
        "\n",
        "B = np.array ([3, 9 ,8])\n",
        "\n",
        "print(\"A * A\")\n",
        "print(np.cross(A, B))"
      ],
      "metadata": {
        "colab": {
          "base_uri": "https://localhost:8080/"
        },
        "id": "oVQgyJx6ppWw",
        "outputId": "f51427e5-c211-454b-fe5e-e39d52454659"
      },
      "execution_count": 28,
      "outputs": [
        {
          "output_type": "stream",
          "name": "stdout",
          "text": [
            "A * A\n",
            "[20 -4 -3]\n"
          ]
        }
      ]
    }
  ]
}