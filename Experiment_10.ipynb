{
  "nbformat": 4,
  "nbformat_minor": 0,
  "metadata": {
    "colab": {
      "provenance": [],
      "authorship_tag": "ABX9TyNuCdV8JNgfq/RWG3LJ8IlR",
      "include_colab_link": true
    },
    "kernelspec": {
      "name": "python3",
      "display_name": "Python 3"
    },
    "language_info": {
      "name": "python"
    }
  },
  "cells": [
    {
      "cell_type": "markdown",
      "metadata": {
        "id": "view-in-github",
        "colab_type": "text"
      },
      "source": [
        "<a href=\"https://colab.research.google.com/github/Gilmore-Floyd-R-Lozano/58013-Linear-Algebra/blob/main/Experiment_10.ipynb\" target=\"_parent\"><img src=\"https://colab.research.google.com/assets/colab-badge.svg\" alt=\"Open In Colab\"/></a>"
      ]
    },
    {
      "cell_type": "code",
      "execution_count": null,
      "metadata": {
        "colab": {
          "base_uri": "https://localhost:8080/"
        },
        "id": "nSpwnzOCBHE1",
        "outputId": "90e37edf-a562-4e47-e7de-8b87d30d2dff"
      },
      "outputs": [
        {
          "output_type": "stream",
          "name": "stdout",
          "text": [
            "[[ 1.  1.  1.]\n",
            " [ 3. -2. -1.]\n",
            " [-1.  4.  2.]]\n",
            "(3, 3)\n",
            "[[ 1.]\n",
            " [ 4.]\n",
            " [-3.]]\n",
            "(3, 1)\n"
          ]
        }
      ],
      "source": [
        "import numpy as np\n",
        "\n",
        "X = np.array([\n",
        "    [1,1,1],\n",
        "    [3,-2,-1],\n",
        "    [-1,4,2]\n",
        "], dtype=float)\n",
        "Y = np.array([\n",
        "    [1],\n",
        "    [4],\n",
        "    [-3]\n",
        "],dtype=float)\n",
        "print(X)\n",
        "print(X.shape)\n",
        "print(Y)\n",
        "print(Y.shape)\n"
      ]
    },
    {
      "cell_type": "code",
      "source": [
        "#Coding Activity 10\n",
        "\n",
        "import numpy as np\n",
        "A0 = np.array([[30, 10, 120],\n",
        "               [40, 20, 200],\n",
        "               [50, 40, 360]])\n",
        "\n",
        "A1 = np.array([[12500, 10, 120],\n",
        "               [18000, 20, 200],\n",
        "               [25700, 40, 360]])\n",
        "\n",
        "A2 = np.array([[30, 12500, 120],\n",
        "               [40, 18000, 200],\n",
        "               [50, 25700, 360]])\n",
        "\n",
        "A3 = np.array([[30, 10, 12500],\n",
        "               [40, 20, 18000],\n",
        "               [50, 40, 25700]])\n",
        "\n",
        "A0det = np.linalg.det(A0)\n",
        "A1det = np.linalg.det(A1)\n",
        "A2det = np.linalg.det(A2)\n",
        "A3det = np.linalg.det(A3)\n",
        "\n",
        "flour = A1det/A0det\n",
        "yeast = A2det/A0det\n",
        "egg = A3det/A0det\n",
        "\n",
        "print(\"Price of flour per sack:\", round(flour,2))\n",
        "print(\"Price of yeast per pack:\", round(yeast,2))\n",
        "print(\"Price of egg per piece:\", round(egg,2))\n",
        "\n"
      ],
      "metadata": {
        "colab": {
          "base_uri": "https://localhost:8080/"
        },
        "id": "QCzqLCpABYy_",
        "outputId": "6ebf0c54-2926-40bd-f9f3-d833bdbaa646"
      },
      "execution_count": null,
      "outputs": [
        {
          "output_type": "stream",
          "name": "stdout",
          "text": [
            "Price of flour per sack: 330.0\n",
            "Price of yeast per pack: 140.0\n",
            "Price of egg per piece: 10.0\n"
          ]
        }
      ]
    }
  ]
}