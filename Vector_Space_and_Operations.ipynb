{
  "nbformat": 4,
  "nbformat_minor": 0,
  "metadata": {
    "colab": {
      "provenance": [],
      "authorship_tag": "ABX9TyOzT+OppKQordDX9YHSSpHq",
      "include_colab_link": true
    },
    "kernelspec": {
      "name": "python3",
      "display_name": "Python 3"
    },
    "language_info": {
      "name": "python"
    }
  },
  "cells": [
    {
      "cell_type": "markdown",
      "metadata": {
        "id": "view-in-github",
        "colab_type": "text"
      },
      "source": [
        "<a href=\"https://colab.research.google.com/github/Gilmore-Floyd-R-Lozano/58013-Linear-Algebra/blob/main/Vector_Space_and_Operations.ipynb\" target=\"_parent\"><img src=\"https://colab.research.google.com/assets/colab-badge.svg\" alt=\"Open In Colab\"/></a>"
      ]
    },
    {
      "cell_type": "code",
      "execution_count": 4,
      "metadata": {
        "colab": {
          "base_uri": "https://localhost:8080/"
        },
        "id": "UKQkJTE1hLBL",
        "outputId": "32b86811-4ba7-4c4a-ed48-0a611b71fabd"
      },
      "outputs": [
        {
          "output_type": "stream",
          "name": "stdout",
          "text": [
            "Vector A is [4 3]\n",
            "Vector b is [ 2 -5]\n"
          ]
        }
      ],
      "source": [
        "import numpy as np\n",
        "A = np.array([4,3])\n",
        "B = np.array([2, -5])\n",
        "\n",
        "print(\"Vector A is\", A)\n",
        "print(\"Vector b is\", B)\n",
        "\n"
      ]
    },
    {
      "cell_type": "code",
      "source": [
        "##Shape of Matrix\n",
        "import numpy as np\n",
        "\n",
        "ball1 =np.array([1,2,3])\n",
        "ball2 = np.array([0,1,-1])\n",
        "\n",
        "print(ball1)\n",
        "print(ball2)\n",
        "ball = np.shape(ball1)\n",
        "balls = np.shape(ball2)\n",
        "\n",
        "print(ball+balls)\n",
        "\n",
        "\n"
      ],
      "metadata": {
        "colab": {
          "base_uri": "https://localhost:8080/"
        },
        "id": "ZfstCqOUochP",
        "outputId": "051cb128-c320-426b-9148-c2e39851cc1c"
      },
      "execution_count": 24,
      "outputs": [
        {
          "output_type": "stream",
          "name": "stdout",
          "text": [
            "[1 2 3]\n",
            "[ 0  1 -1]\n",
            "(3, 3)\n"
          ]
        }
      ]
    },
    {
      "cell_type": "code",
      "source": [
        "#Shape of Matrix\n",
        "import numpy as np\n",
        "\n",
        "ball1 =np.array([1,2,3])\n",
        "ball2 = np.array([0,1,-1])\n",
        "ball = np.vstack((ball1,ball2))\n",
        "\n",
        "print(ball1.shape) # dimension of ball1\n",
        "print(ball2.shape) # dimension of ball 2\n",
        "print(ball.shape) # dimension of combined ball 1 and 2\n",
        "\n",
        "print(np.shape(([ball1,ball2])))\n",
        "print(ball)\n",
        "\n",
        "#ball1 = np.array(([1],[2],[3])) column Vector\n",
        "\n",
        "#ball2 = np.array([0,1,-1])\n",
        "#print(ball1)\n",
        "\n",
        "\n"
      ],
      "metadata": {
        "colab": {
          "base_uri": "https://localhost:8080/"
        },
        "id": "3rOhiT2SjGIb",
        "outputId": "5d1d21ef-1f78-4483-86c3-b5ec9f20c096"
      },
      "execution_count": 29,
      "outputs": [
        {
          "output_type": "stream",
          "name": "stdout",
          "text": [
            "(3,)\n",
            "(3,)\n",
            "(2, 3)\n",
            "(2, 3)\n",
            "[[ 1  2  3]\n",
            " [ 0  1 -1]]\n"
          ]
        }
      ]
    },
    {
      "cell_type": "code",
      "source": [
        "#Addition\n",
        "import numpy as np\n",
        "\n",
        "A = np.array([4,3])\n",
        "B = np.array([2, -5])\n",
        "R = np.add(A,B)\n",
        "\n",
        "\n",
        "print(R)"
      ],
      "metadata": {
        "colab": {
          "base_uri": "https://localhost:8080/"
        },
        "id": "QOC_GpSTpGYU",
        "outputId": "68c7e242-a575-49ac-c2f5-bb73af1b9c06"
      },
      "execution_count": 36,
      "outputs": [
        {
          "output_type": "stream",
          "name": "stdout",
          "text": [
            "[ 6 -2]\n"
          ]
        }
      ]
    },
    {
      "cell_type": "code",
      "source": [
        "#Addition\n",
        "import numpy as np\n",
        "\n",
        "A = np.array([4,3])\n",
        "B = np.array([2, -5])\n",
        "R1 = np.subtract(A,B)\n",
        "R2 = np.subtract(B,A)\n",
        "print(R1)\n",
        "print(R2)"
      ],
      "metadata": {
        "colab": {
          "base_uri": "https://localhost:8080/"
        },
        "id": "lTasUQKkt1_A",
        "outputId": "cdddfc52-cb17-42c6-ba49-60b0c491417a"
      },
      "execution_count": 37,
      "outputs": [
        {
          "output_type": "stream",
          "name": "stdout",
          "text": [
            "[2 8]\n",
            "[-2 -8]\n"
          ]
        }
      ]
    },
    {
      "cell_type": "code",
      "source": [
        "#Scalar Product\n",
        "s = np.array([2])\n",
        "v = s*A\n",
        "print(v)"
      ],
      "metadata": {
        "colab": {
          "base_uri": "https://localhost:8080/"
        },
        "id": "qApa731yutvI",
        "outputId": "2534fa9c-4ba2-4475-d698-ec9dff8ff611"
      },
      "execution_count": 39,
      "outputs": [
        {
          "output_type": "stream",
          "name": "stdout",
          "text": [
            "[8 6]\n"
          ]
        }
      ]
    },
    {
      "cell_type": "code",
      "source": [
        "#Multiplication\n",
        "A = np.array([4,3])\n",
        "B = np.array(([2], [-5]))\n",
        "print(B*A)"
      ],
      "metadata": {
        "colab": {
          "base_uri": "https://localhost:8080/"
        },
        "id": "vcrPvUvbvKBY",
        "outputId": "c1128709-dbb9-49c3-e36b-d9e60566af78"
      },
      "execution_count": 48,
      "outputs": [
        {
          "output_type": "stream",
          "name": "stdout",
          "text": [
            "[[  8   6]\n",
            " [-20 -15]]\n"
          ]
        }
      ]
    },
    {
      "cell_type": "code",
      "source": [
        "#Dot Product\n",
        "A = np.array([4,3])\n",
        "B = np.array([2, -5])\n",
        "print(np.dot(A,B))"
      ],
      "metadata": {
        "colab": {
          "base_uri": "https://localhost:8080/"
        },
        "id": "ZG7fy8f1yxoo",
        "outputId": "aa079374-f960-4f66-a3fb-fe0be9b65bc3"
      },
      "execution_count": 50,
      "outputs": [
        {
          "output_type": "stream",
          "name": "stdout",
          "text": [
            "-7\n"
          ]
        }
      ]
    },
    {
      "cell_type": "code",
      "source": [
        "#Cross Product\n",
        "A = np.array([4,3])\n",
        "B = np.array([2, -5])\n",
        "print(np.cross(A,B))"
      ],
      "metadata": {
        "id": "nnZbpv7xzPjN"
      },
      "execution_count": null,
      "outputs": []
    },
    {
      "cell_type": "code",
      "source": [
        "#Property of Matrix\n",
        "#Identity Matrix\n",
        "\n",
        "c = np.eye(2,2)\n",
        "print(c)\n",
        "\n",
        "c = np.eye(3,3)\n",
        "print(\"\\n\", c)\n",
        "\n",
        "# Zero Matrix\n",
        "c = np.zeros([5,5])\n",
        "print(\"\\n\", c)\n",
        "\n",
        "# Full Matrix\n",
        "c = np.full((3,3),7)\n",
        "print(\"\\n\",c)\n",
        "\n",
        "#Transpose Matrix\n",
        "c = np.transpose(A,axes = None)\n",
        "print(\"\\n\", c)\n",
        "\n",
        "#Empty Matrix\n",
        "c = np.empty([2,2])\n",
        "print(\"\\n\", c)"
      ],
      "metadata": {
        "colab": {
          "base_uri": "https://localhost:8080/"
        },
        "id": "6mCRgNF5zTKu",
        "outputId": "2015cbbd-cdb9-4d07-cd5d-13ffe8f35f0b"
      },
      "execution_count": 75,
      "outputs": [
        {
          "output_type": "stream",
          "name": "stdout",
          "text": [
            "[[1. 0.]\n",
            " [0. 1.]]\n",
            "\n",
            " [[1. 0. 0.]\n",
            " [0. 1. 0.]\n",
            " [0. 0. 1.]]\n",
            "\n",
            " [[0. 0. 0. 0. 0.]\n",
            " [0. 0. 0. 0. 0.]\n",
            " [0. 0. 0. 0. 0.]\n",
            " [0. 0. 0. 0. 0.]\n",
            " [0. 0. 0. 0. 0.]]\n",
            "\n",
            " [[7 7 7]\n",
            " [7 7 7]\n",
            " [7 7 7]]\n",
            "\n",
            " [4 3]\n",
            "\n",
            " [[1. 0.]\n",
            " [0. 1.]]\n"
          ]
        }
      ]
    }
  ]
}