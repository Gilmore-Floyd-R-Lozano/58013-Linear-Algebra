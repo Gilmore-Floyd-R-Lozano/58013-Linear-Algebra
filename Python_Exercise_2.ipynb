{
  "nbformat": 4,
  "nbformat_minor": 0,
  "metadata": {
    "colab": {
      "provenance": [],
      "authorship_tag": "ABX9TyNiDYGNS55FBiiVhT/joD/T",
      "include_colab_link": true
    },
    "kernelspec": {
      "name": "python3",
      "display_name": "Python 3"
    },
    "language_info": {
      "name": "python"
    }
  },
  "cells": [
    {
      "cell_type": "markdown",
      "metadata": {
        "id": "view-in-github",
        "colab_type": "text"
      },
      "source": [
        "<a href=\"https://colab.research.google.com/github/Gilmore-Floyd-R-Lozano/58013-Linear-Algebra/blob/main/Python_Exercise_2.ipynb\" target=\"_parent\"><img src=\"https://colab.research.google.com/assets/colab-badge.svg\" alt=\"Open In Colab\"/></a>"
      ]
    },
    {
      "cell_type": "code",
      "execution_count": 4,
      "metadata": {
        "colab": {
          "base_uri": "https://localhost:8080/"
        },
        "id": "faOOQoq5Qetw",
        "outputId": "d7c35355-b423-4398-9b7f-668bc256ad72"
      },
      "outputs": [
        {
          "output_type": "stream",
          "name": "stdout",
          "text": [
            "-0.5\n"
          ]
        }
      ],
      "source": [
        "# Scalars\n",
        "import numpy as np\n",
        "\n",
        "x = np.array(-0.5)\n",
        "\n",
        "print(x)"
      ]
    },
    {
      "cell_type": "code",
      "source": [
        "# Vectors\n",
        "A = np.array([4,3])\n",
        "B = np.array([2, -5])\n",
        "\n",
        "print('Vector A is ', A)\n",
        "print('Vector B is ', B)\n"
      ],
      "metadata": {
        "colab": {
          "base_uri": "https://localhost:8080/"
        },
        "id": "36VFIMvUXO3y",
        "outputId": "ad7085b3-35d0-4054-b61a-72c59380899d"
      },
      "execution_count": 5,
      "outputs": [
        {
          "output_type": "stream",
          "name": "stdout",
          "text": [
            "Vector A is  [4 3]\n",
            "Vector B is  [ 2 -5]\n"
          ]
        }
      ]
    },
    {
      "cell_type": "code",
      "source": [
        "# Describing Vectors in NumPy\n",
        "\n",
        "### Checking shapes\n",
        "### Shapes tells us how many rows and columns are there\n",
        "import numpy as np\n",
        "ball1 = np.array([1,2,3])\n",
        "ball2 = np.array([0,1,-1])\n",
        "\n",
        "pool = np.array([ball1, ball2]) ## Matrix\n",
        "print(pool.shape)\n",
        "\n",
        "U = np.array([\n",
        "    [1, 2],\n",
        "    [2, 3]\n",
        "])\n",
        "print(U.shape)\n",
        "\n",
        "### Checking size\n",
        "### Array/Vector sizes tells us many total number of elements are there in the vector\n",
        "\n",
        "print(U.size)\n",
        "\n",
        "### Checking dimensions\n",
        "### The dimensions or rank of a vector tells us how many dimensions are there for the vector.\n",
        "#A.ndim\n",
        "\n",
        "print(pool.ndim)\n"
      ],
      "metadata": {
        "id": "THOoiAV9ZIpm",
        "colab": {
          "base_uri": "https://localhost:8080/"
        },
        "outputId": "aaa23ed5-b5f1-48ec-81d6-9e69a3e57825"
      },
      "execution_count": 8,
      "outputs": [
        {
          "output_type": "stream",
          "name": "stdout",
          "text": [
            "(2, 3)\n",
            "(2, 2)\n",
            "4\n",
            "2\n"
          ]
        }
      ]
    }
  ]
}