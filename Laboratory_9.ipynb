{
  "nbformat": 4,
  "nbformat_minor": 0,
  "metadata": {
    "colab": {
      "provenance": [],
      "authorship_tag": "ABX9TyOKERosil0uOGO1KMexIxoe",
      "include_colab_link": true
    },
    "kernelspec": {
      "name": "python3",
      "display_name": "Python 3"
    },
    "language_info": {
      "name": "python"
    }
  },
  "cells": [
    {
      "cell_type": "markdown",
      "metadata": {
        "id": "view-in-github",
        "colab_type": "text"
      },
      "source": [
        "<a href=\"https://colab.research.google.com/github/Gilmore-Floyd-R-Lozano/58013-Linear-Algebra/blob/main/Laboratory_9.ipynb\" target=\"_parent\"><img src=\"https://colab.research.google.com/assets/colab-badge.svg\" alt=\"Open In Colab\"/></a>"
      ]
    },
    {
      "cell_type": "code",
      "execution_count": 56,
      "metadata": {
        "colab": {
          "base_uri": "https://localhost:8080/"
        },
        "id": "zDDl6aLf_c80",
        "outputId": "c16b6ae1-34c3-4a19-b2cf-cea6d8996a93"
      },
      "outputs": [
        {
          "output_type": "execute_result",
          "data": {
            "text/plain": [
              "3.0000000000000004"
            ]
          },
          "metadata": {},
          "execution_count": 56
        }
      ],
      "source": [
        "import numpy as np\n",
        "import matplotlib.pyplot as plt\n",
        "%matplotlib inline\n",
        "\n",
        "A = np.array([\n",
        "    [1,4],\n",
        "    [0,3]\n",
        "])\n",
        "np.linalg.det(A)\n"
      ]
    },
    {
      "cell_type": "code",
      "source": [
        "## Now other mathematics classes would require you to solve this by hand,\n",
        "## and that is great for practicing your memorization and coordination skills\n",
        "## but in this class we aim for simplicity and speed so we'll use programming\n",
        "## but it's completely fine if you want to try to solve this one by hand.\n",
        "\n",
        "B = np.array([\n",
        "    [1,3,5,6],\n",
        "    [0,3,1,3],\n",
        "    [3,1,8,2],\n",
        "    [5,2,6,8]\n",
        "])\n",
        "np.linalg.det(B)\n"
      ],
      "metadata": {
        "colab": {
          "base_uri": "https://localhost:8080/"
        },
        "id": "y5XMwpSQ_jHi",
        "outputId": "57bf012d-3c68-47b2-d8db-5ba03ecd9a34"
      },
      "execution_count": 55,
      "outputs": [
        {
          "output_type": "execute_result",
          "data": {
            "text/plain": [
              "-235.0000000000002"
            ]
          },
          "metadata": {},
          "execution_count": 55
        }
      ]
    },
    {
      "cell_type": "code",
      "source": [
        "# Associative Property\n",
        "# (AB)C = A(BC)\n",
        "import numpy as np\n",
        "A = np.array([[10, 20, 30],\n",
        "              [40, 50, 60],\n",
        "              [70, 80, 90]])\n",
        "\n",
        "B = np.array([[30, 20, 10],\n",
        "              [60, 50, 40],\n",
        "              [90, 80, 70]])\n",
        "\n",
        "C = np.array([[20, 30, 10],\n",
        "              [50, 60, 40],\n",
        "              [80, 90, 70]])\n",
        "\n",
        "AB_C = np.dot(np.dot(A, B), C)\n",
        "A_BC = np.dot(A, np.dot(B, C))\n",
        "\n",
        "equal = np.array_equal(A_BC, A_BC)\n",
        "\n",
        "print(\"(AB)C:\\n\", AB_C)\n",
        "print(\"\\nA(BC):\\n\", A_BC)\n",
        "\n",
        "print(\"\\nResults are equal therefore:\", equal)\n"
      ],
      "metadata": {
        "id": "v18yJqIq_3nS",
        "colab": {
          "base_uri": "https://localhost:8080/"
        },
        "outputId": "63789281-9a28-467e-8d1c-44fb4cfcd516"
      },
      "execution_count": 58,
      "outputs": [
        {
          "output_type": "stream",
          "name": "stdout",
          "text": [
            "(AB)C:\n",
            " [[ 504000  612000  396000]\n",
            " [1125000 1368000  882000]\n",
            " [1746000 2124000 1368000]]\n",
            "\n",
            "A(BC):\n",
            " [[ 504000  612000  396000]\n",
            " [1125000 1368000  882000]\n",
            " [1746000 2124000 1368000]]\n",
            "\n",
            "Results are equal therefore: True\n"
          ]
        }
      ]
    },
    {
      "cell_type": "code",
      "source": [
        "# Distributive Property\n",
        "# A(B+C) = AB + AC\n",
        "A = np.array([[10, 10, 10],\n",
        "              [10, 10, 10],\n",
        "              [10, 10, 10]])\n",
        "\n",
        "B = np.array([[1, 2, 3],\n",
        "              [4, 5, 6],\n",
        "              [7, 8, 9]])\n",
        "\n",
        "C = np.array([[1, 1, 1],\n",
        "              [1, 1, 1],\n",
        "              [1, 1, 1]])\n",
        "\n",
        "# A(B+C)\n",
        "R1 = np.dot(A, np.add(B, C))\n",
        "# AB + AC\n",
        "R2 = np.add(np.dot(A, B), np.dot(A, C))\n",
        "\n",
        "equal = np.array_equal(R1, R2)\n",
        "\n",
        "print(\"A(B+C):\")\n",
        "print(R1)\n",
        "print(\"\\nAB + AC:\")\n",
        "print(R2)\n",
        "\n",
        "print(\"\\nResults are equal therefore:\", equal)"
      ],
      "metadata": {
        "colab": {
          "base_uri": "https://localhost:8080/"
        },
        "id": "antZI9dUZ9aW",
        "outputId": "0774e46f-0870-40d9-fbed-d65a43ace961"
      },
      "execution_count": 59,
      "outputs": [
        {
          "output_type": "stream",
          "name": "stdout",
          "text": [
            "A(B+C):\n",
            "[[150 180 210]\n",
            " [150 180 210]\n",
            " [150 180 210]]\n",
            "\n",
            "AB + AC:\n",
            "[[150 180 210]\n",
            " [150 180 210]\n",
            " [150 180 210]]\n",
            "\n",
            "Results are equal therefore: True\n"
          ]
        }
      ]
    },
    {
      "cell_type": "code",
      "source": [
        "# Commutative Property\n",
        "# AB != BA\n",
        "A = np.array([[10, 20, 30],\n",
        "              [40, 50, 60],\n",
        "              [70, 80, 90]])\n",
        "\n",
        "B = np.array([[30, 20, 10],\n",
        "              [60, 50, 40],\n",
        "              [90, 80, 70]])\n",
        "\n",
        "AB = np.dot(A,B)\n",
        "BA = np.dot(B,A)\n",
        "\n",
        "print(\"AB:\\n\", AB)\n",
        "print(\"\\nBA:\\n\", BA)\n",
        "\n",
        "print(\"\\nAB ≠ BA\")"
      ],
      "metadata": {
        "colab": {
          "base_uri": "https://localhost:8080/"
        },
        "id": "jW2oYis2edK-",
        "outputId": "c049852d-bcf6-437c-90de-62529e762ad0"
      },
      "execution_count": 60,
      "outputs": [
        {
          "output_type": "stream",
          "name": "stdout",
          "text": [
            "AB:\n",
            " [[ 4200  3600  3000]\n",
            " [ 9600  8100  6600]\n",
            " [15000 12600 10200]]\n",
            "\n",
            "BA:\n",
            " [[ 1800  2400  3000]\n",
            " [ 5400  6900  8400]\n",
            " [ 9000 11400 13800]]\n",
            "\n",
            "AB ≠ BA\n"
          ]
        }
      ]
    },
    {
      "cell_type": "code",
      "source": [
        "# Multiplicative Idendity Property\n",
        "A = np.array([[1, 2, 3],\n",
        "              [4, 5, 6],\n",
        "              [7, 8, 9]])\n",
        "\n",
        "I = np.eye(3,3)\n",
        "\n",
        "AI = np.dot(A,I)\n",
        "\n",
        "equal = np.array_equal(A, AI)\n",
        "\n",
        "print(I,\"\\n\")\n",
        "\n",
        "print(\"A:\\n\",A)\n",
        "\n",
        "print(\"\\nAI:\\n\", AI)\n",
        "\n",
        "print(\"\\nA and AI are equal therefore:\", equal)"
      ],
      "metadata": {
        "colab": {
          "base_uri": "https://localhost:8080/"
        },
        "id": "x9Q6Aw17dJO3",
        "outputId": "99274a90-1bdc-4e6e-fa13-beae948a8d8e"
      },
      "execution_count": 66,
      "outputs": [
        {
          "output_type": "stream",
          "name": "stdout",
          "text": [
            "[[1. 0. 0.]\n",
            " [0. 1. 0.]\n",
            " [0. 0. 1.]] \n",
            "\n",
            "A:\n",
            " [[1 2 3]\n",
            " [4 5 6]\n",
            " [7 8 9]]\n",
            "\n",
            "AI:\n",
            " [[1. 2. 3.]\n",
            " [4. 5. 6.]\n",
            " [7. 8. 9.]]\n",
            "\n",
            "A and AI are equal therefore: True\n"
          ]
        }
      ]
    },
    {
      "cell_type": "code",
      "source": [
        "# Multiplicative Property of Zero\n",
        "A = np.array([[1, 2, 3],\n",
        "              [4, 5, 6],\n",
        "              [7, 8, 9]])\n",
        "\n",
        "O = np.zeros((3,3))\n",
        "AO = np.dot(A,O)\n",
        "equal = np.array_equal(O, AO)\n",
        "\n",
        "print(\"O:\\n\",O,\"\\n\")\n",
        "print(\"AO:\\n\", AO)\n",
        "\n",
        "print(\"O and AO are equal therefore:\", equal)"
      ],
      "metadata": {
        "colab": {
          "base_uri": "https://localhost:8080/"
        },
        "id": "6C1aupeSedD6",
        "outputId": "19626bb9-de5e-4d0f-c13e-5aced68b7d69"
      },
      "execution_count": 65,
      "outputs": [
        {
          "output_type": "stream",
          "name": "stdout",
          "text": [
            "O:\n",
            " [[0. 0. 0.]\n",
            " [0. 0. 0.]\n",
            " [0. 0. 0.]] \n",
            "\n",
            "AO:\n",
            " [[0. 0. 0.]\n",
            " [0. 0. 0.]\n",
            " [0. 0. 0.]]\n",
            "O and AO are equal therefore: True\n"
          ]
        }
      ]
    },
    {
      "cell_type": "code",
      "source": [
        "# Dimension Property\n",
        "A = np.array([[1,2,3,4],\n",
        "              [5,6,7,8],\n",
        "              [9,10,11,12]])\n",
        "\n",
        "B = np.array([[1,2,3],\n",
        "              [4,5,6],\n",
        "              [7,8,9],\n",
        "              [10,11,12]])\n",
        "\n",
        "AB = np.dot(A,B)\n",
        "\n",
        "print(\"A:\\n\", A)\n",
        "print(\"\\nB:\\n\", B)\n",
        "print(\"\\nAB:\\n\", AB)\n",
        "print(\"\\nDimensions of AB:\", np.shape(AB))"
      ],
      "metadata": {
        "colab": {
          "base_uri": "https://localhost:8080/"
        },
        "id": "Rf018Sc6kcP_",
        "outputId": "9a6844a7-10a0-45aa-ddbb-78f330d3b250"
      },
      "execution_count": 64,
      "outputs": [
        {
          "output_type": "stream",
          "name": "stdout",
          "text": [
            "A:\n",
            " [[ 1  2  3  4]\n",
            " [ 5  6  7  8]\n",
            " [ 9 10 11 12]]\n",
            "\n",
            "B:\n",
            " [[ 1  2  3]\n",
            " [ 4  5  6]\n",
            " [ 7  8  9]\n",
            " [10 11 12]]\n",
            "\n",
            "AB:\n",
            " [[ 70  80  90]\n",
            " [158 184 210]\n",
            " [246 288 330]]\n",
            "\n",
            "Dimensions of AB: (3, 3)\n"
          ]
        }
      ]
    }
  ]
}